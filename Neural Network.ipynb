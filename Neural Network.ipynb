{
 "cells": [
  {
   "cell_type": "code",
   "execution_count": 1,
   "metadata": {},
   "outputs": [
    {
     "name": "stderr",
     "output_type": "stream",
     "text": [
      "Using TensorFlow backend.\n"
     ]
    }
   ],
   "source": [
    "import tensorflow as tf\n",
    "import numpy as np\n",
    "from sklearn.model_selection import train_test_split\n",
    "from tensorflow import keras\n",
    "from os import listdir\n",
    "from keras.preprocessing.image import load_img\n",
    "from keras.preprocessing.image import img_to_array\n",
    "from numpy import asarray\n",
    "from numpy import save\n"
   ]
  },
  {
   "cell_type": "code",
   "execution_count": 2,
   "metadata": {},
   "outputs": [
    {
     "data": {
      "text/plain": [
       "'1.14.0'"
      ]
     },
     "execution_count": 2,
     "metadata": {},
     "output_type": "execute_result"
    }
   ],
   "source": [
    "tf.__version__"
   ]
  },
  {
   "cell_type": "code",
   "execution_count": 2,
   "metadata": {},
   "outputs": [],
   "source": [
    "X = np.load('X.npy')\n",
    "Y = np.load('Y.npy')\n",
    "\n",
    "X_train, X_test, Y_train, Y_test = train_test_split(X,Y, test_size = 0.25,random_state=42)\n"
   ]
  },
  {
   "cell_type": "code",
   "execution_count": 5,
   "metadata": {},
   "outputs": [],
   "source": [
    "def build_model(X_train, Y_train, X_test, Y_test):\n",
    "    model = keras.Sequential([\n",
    "        keras.layers.Flatten(input_shape=(50,50,3)),\n",
    "        keras.layers.Dense(128, activation=tf.nn.relu),\n",
    "        keras.layers.Dense(32, activation=tf.nn.relu),\n",
    "        keras.layers.Dense(16, activation=tf.nn.relu),\n",
    "        keras.layers.Dense(2, activation=tf.nn.softmax)\n",
    "    ])\n",
    "    model.compile(optimizer = 'adam',\n",
    "                 loss = 'sparse_categorical_crossentropy',\n",
    "                 metrics=['accuracy'])\n",
    "    model.fit(X_train, Y_train, \n",
    "              epochs=30, \n",
    "              validation_data=(X_test, Y_test))\n",
    "    \n",
    "    return model"
   ]
  },
  {
   "cell_type": "code",
   "execution_count": 6,
   "metadata": {},
   "outputs": [],
   "source": [
    "# Now we're going to give the model data it hasn't seen before. \n",
    "# The model has learn from the X_train and y_train data what types of features (in X) cause cancer\n",
    "# Now we'll past in X_test and see what it predicts, then compare this to the true values in y_test\n",
    "def test_model(model, X_test, Y_test):\n",
    "    predictions = model.predict(X_test)\n",
    "    score = 0\n",
    "    for prediction, truth in zip(predictions, Y_test):\n",
    "        #print(f'model predicted: {prediction}, the true value is {truth}')\n",
    "        if prediction == truth:\n",
    "            score += 1\n",
    "\n",
    "    model_accuracy = score/len(X_test)\n",
    "    return model_accuracy"
   ]
  },
  {
   "cell_type": "code",
   "execution_count": 7,
   "metadata": {},
   "outputs": [
    {
     "name": "stdout",
     "output_type": "stream",
     "text": [
      "1387/1387 [==============================] - 0s 93us/sample - loss: 0.6118 - acc: 0.6669\n"
     ]
    },
    {
     "data": {
      "text/plain": [
       "[0.6117614913347735, 0.666907]"
      ]
     },
     "execution_count": 7,
     "metadata": {},
     "output_type": "execute_result"
    }
   ],
   "source": [
    "model.evaluate(X_test, Y_test)"
   ]
  },
  {
   "cell_type": "code",
   "execution_count": 9,
   "metadata": {
    "scrolled": true
   },
   "outputs": [
    {
     "name": "stdout",
     "output_type": "stream",
     "text": [
      "Train on 4160 samples, validate on 1387 samples\n",
      "Epoch 1/30\n",
      "4160/4160 [==============================] - 4s 850us/sample - loss: 85.6273 - acc: 0.5375 - val_loss: 19.5091 - val_acc: 0.6712\n",
      "Epoch 2/30\n",
      "4160/4160 [==============================] - 3s 699us/sample - loss: 30.3360 - acc: 0.6392 - val_loss: 25.2496 - val_acc: 0.5912\n",
      "Epoch 3/30\n",
      "4160/4160 [==============================] - 3s 701us/sample - loss: 27.8423 - acc: 0.6298 - val_loss: 10.4465 - val_acc: 0.6885\n",
      "Epoch 4/30\n",
      "4160/4160 [==============================] - 3s 691us/sample - loss: 22.5172 - acc: 0.6303 - val_loss: 19.1327 - val_acc: 0.6193\n",
      "Epoch 5/30\n",
      "4160/4160 [==============================] - 3s 689us/sample - loss: 12.9152 - acc: 0.6680 - val_loss: 51.6596 - val_acc: 0.4831\n",
      "Epoch 6/30\n",
      "4160/4160 [==============================] - 3s 731us/sample - loss: 20.9843 - acc: 0.6579 - val_loss: 23.3297 - val_acc: 0.5804\n",
      "Epoch 7/30\n",
      "4160/4160 [==============================] - 3s 762us/sample - loss: 16.9927 - acc: 0.6382 - val_loss: 15.2041 - val_acc: 0.5782\n",
      "Epoch 8/30\n",
      "4160/4160 [==============================] - 3s 727us/sample - loss: 8.9987 - acc: 0.6822 - val_loss: 5.0099 - val_acc: 0.7239\n",
      "Epoch 9/30\n",
      "4160/4160 [==============================] - 3s 790us/sample - loss: 12.5958 - acc: 0.6279 - val_loss: 14.7060 - val_acc: 0.5004\n",
      "Epoch 10/30\n",
      "4160/4160 [==============================] - 3s 835us/sample - loss: 4.7562 - acc: 0.6880 - val_loss: 2.5884 - val_acc: 0.7188\n",
      "Epoch 11/30\n",
      "4160/4160 [==============================] - 3s 735us/sample - loss: 5.3094 - acc: 0.6620 - val_loss: 2.4729 - val_acc: 0.7174\n",
      "Epoch 12/30\n",
      "4160/4160 [==============================] - 3s 821us/sample - loss: 8.6402 - acc: 0.6303 - val_loss: 4.7794 - val_acc: 0.6200\n",
      "Epoch 13/30\n",
      "4160/4160 [==============================] - 3s 717us/sample - loss: 5.9488 - acc: 0.6341 - val_loss: 8.2350 - val_acc: 0.4910\n",
      "Epoch 14/30\n",
      "4160/4160 [==============================] - 3s 726us/sample - loss: 4.1306 - acc: 0.6618 - val_loss: 2.6875 - val_acc: 0.6597\n",
      "Epoch 15/30\n",
      "4160/4160 [==============================] - 3s 684us/sample - loss: 2.3955 - acc: 0.6678 - val_loss: 2.6515 - val_acc: 0.6352\n",
      "Epoch 16/30\n",
      "4160/4160 [==============================] - 3s 680us/sample - loss: 1.6767 - acc: 0.7055 - val_loss: 1.9929 - val_acc: 0.5761\n",
      "Epoch 17/30\n",
      "4160/4160 [==============================] - 3s 677us/sample - loss: 1.3319 - acc: 0.6983 - val_loss: 1.1998 - val_acc: 0.6957\n",
      "Epoch 18/30\n",
      "4160/4160 [==============================] - 3s 732us/sample - loss: 1.2407 - acc: 0.6983 - val_loss: 1.7095 - val_acc: 0.5696\n",
      "Epoch 19/30\n",
      "4160/4160 [==============================] - 3s 786us/sample - loss: 1.5883 - acc: 0.6704 - val_loss: 5.4232 - val_acc: 0.4823\n",
      "Epoch 20/30\n",
      "4160/4160 [==============================] - 3s 783us/sample - loss: 1.1921 - acc: 0.6964 - val_loss: 0.7671 - val_acc: 0.7426\n",
      "Epoch 21/30\n",
      "4160/4160 [==============================] - 3s 728us/sample - loss: 0.6993 - acc: 0.7192 - val_loss: 0.6328 - val_acc: 0.7217\n",
      "Epoch 22/30\n",
      "4160/4160 [==============================] - 3s 719us/sample - loss: 1.5013 - acc: 0.6810 - val_loss: 2.8049 - val_acc: 0.6424\n",
      "Epoch 23/30\n",
      "4160/4160 [==============================] - 3s 774us/sample - loss: 1.1113 - acc: 0.6870 - val_loss: 0.5909 - val_acc: 0.7253\n",
      "Epoch 24/30\n",
      "4160/4160 [==============================] - 3s 755us/sample - loss: 0.6666 - acc: 0.7065 - val_loss: 0.7705 - val_acc: 0.6539\n",
      "Epoch 25/30\n",
      "4160/4160 [==============================] - 3s 719us/sample - loss: 0.5638 - acc: 0.7394 - val_loss: 0.6118 - val_acc: 0.7073\n",
      "Epoch 26/30\n",
      "4160/4160 [==============================] - 3s 699us/sample - loss: 0.5500 - acc: 0.7418 - val_loss: 0.9127 - val_acc: 0.5516\n",
      "Epoch 27/30\n",
      "4160/4160 [==============================] - 3s 751us/sample - loss: 0.5708 - acc: 0.7175 - val_loss: 0.6023 - val_acc: 0.6871\n",
      "Epoch 28/30\n",
      "4160/4160 [==============================] - 3s 756us/sample - loss: 0.5053 - acc: 0.7649 - val_loss: 0.6392 - val_acc: 0.6770\n",
      "Epoch 29/30\n",
      "4160/4160 [==============================] - 3s 724us/sample - loss: 0.7330 - acc: 0.7272 - val_loss: 1.6451 - val_acc: 0.5948\n",
      "Epoch 30/30\n",
      "4160/4160 [==============================] - 3s 783us/sample - loss: 0.9036 - acc: 0.6337 - val_loss: 1.3003 - val_acc: 0.5638\n"
     ]
    }
   ],
   "source": [
    "model = build_model(X_train,Y_train, X_test, Y_test)"
   ]
  },
  {
   "cell_type": "code",
   "execution_count": 21,
   "metadata": {},
   "outputs": [
    {
     "name": "stdout",
     "output_type": "stream",
     "text": [
      "Model: \"sequential_4\"\n",
      "_________________________________________________________________\n",
      "Layer (type)                 Output Shape              Param #   \n",
      "=================================================================\n",
      "flatten_4 (Flatten)          (None, 7500)              0         \n",
      "_________________________________________________________________\n",
      "dense_8 (Dense)              (None, 32)                240032    \n",
      "_________________________________________________________________\n",
      "dense_9 (Dense)              (None, 16)                528       \n",
      "_________________________________________________________________\n",
      "dense_10 (Dense)             (None, 2)                 34        \n",
      "=================================================================\n",
      "Total params: 240,594\n",
      "Trainable params: 240,594\n",
      "Non-trainable params: 0\n",
      "_________________________________________________________________\n"
     ]
    }
   ],
   "source": [
    "model.summary()"
   ]
  },
  {
   "cell_type": "code",
   "execution_count": 19,
   "metadata": {},
   "outputs": [
    {
     "ename": "ValueError",
     "evalue": "The truth value of an array with more than one element is ambiguous. Use a.any() or a.all()",
     "output_type": "error",
     "traceback": [
      "\u001b[0;31m---------------------------------------------------------------------------\u001b[0m",
      "\u001b[0;31mValueError\u001b[0m                                Traceback (most recent call last)",
      "\u001b[0;32m<ipython-input-19-2724ebd073a1>\u001b[0m in \u001b[0;36m<module>\u001b[0;34m\u001b[0m\n\u001b[0;32m----> 1\u001b[0;31m \u001b[0mtest_model\u001b[0m\u001b[0;34m(\u001b[0m\u001b[0mmodel\u001b[0m\u001b[0;34m,\u001b[0m\u001b[0mX_test\u001b[0m\u001b[0;34m,\u001b[0m\u001b[0mY_test\u001b[0m\u001b[0;34m)\u001b[0m\u001b[0;34m\u001b[0m\u001b[0;34m\u001b[0m\u001b[0m\n\u001b[0m",
      "\u001b[0;32m<ipython-input-6-77f9a0720f08>\u001b[0m in \u001b[0;36mtest_model\u001b[0;34m(model, X_test, Y_test)\u001b[0m\n\u001b[1;32m      7\u001b[0m     \u001b[0;32mfor\u001b[0m \u001b[0mprediction\u001b[0m\u001b[0;34m,\u001b[0m \u001b[0mtruth\u001b[0m \u001b[0;32min\u001b[0m \u001b[0mzip\u001b[0m\u001b[0;34m(\u001b[0m\u001b[0mpredictions\u001b[0m\u001b[0;34m,\u001b[0m \u001b[0mY_test\u001b[0m\u001b[0;34m)\u001b[0m\u001b[0;34m:\u001b[0m\u001b[0;34m\u001b[0m\u001b[0;34m\u001b[0m\u001b[0m\n\u001b[1;32m      8\u001b[0m         \u001b[0;31m#print(f'model predicted: {prediction}, the true value is {truth}')\u001b[0m\u001b[0;34m\u001b[0m\u001b[0;34m\u001b[0m\u001b[0;34m\u001b[0m\u001b[0m\n\u001b[0;32m----> 9\u001b[0;31m         \u001b[0;32mif\u001b[0m \u001b[0mprediction\u001b[0m \u001b[0;34m==\u001b[0m \u001b[0mtruth\u001b[0m\u001b[0;34m:\u001b[0m\u001b[0;34m\u001b[0m\u001b[0;34m\u001b[0m\u001b[0m\n\u001b[0m\u001b[1;32m     10\u001b[0m             \u001b[0mscore\u001b[0m \u001b[0;34m+=\u001b[0m \u001b[0;36m1\u001b[0m\u001b[0;34m\u001b[0m\u001b[0;34m\u001b[0m\u001b[0m\n\u001b[1;32m     11\u001b[0m \u001b[0;34m\u001b[0m\u001b[0m\n",
      "\u001b[0;31mValueError\u001b[0m: The truth value of an array with more than one element is ambiguous. Use a.any() or a.all()"
     ]
    }
   ],
   "source": [
    "test_model(model,X_test,Y_test)"
   ]
  },
  {
   "cell_type": "code",
   "execution_count": 10,
   "metadata": {},
   "outputs": [],
   "source": [
    "def actionable():\n",
    "    folder = 'photos/'\n",
    "    photos= list()\n",
    "    # enumerate files in the directory\n",
    "    for file in listdir(folder):\n",
    "\n",
    "        # load image\n",
    "        photo = load_img(folder + file, target_size=(50, 50))\n",
    "        # convert to numpy array\n",
    "        photo = img_to_array(photo)\n",
    "        # store\n",
    "        photos.append(photo)\n",
    "\n",
    "    # convert to a numpy arrays\n",
    "    photos = asarray(photos)\n",
    "\n",
    "    print(photos.shape)\n",
    "    # save the reshaped photos\n",
    "    save('photo.npy', photos)\n",
    "    \n",
    "    \n"
   ]
  },
  {
   "cell_type": "code",
   "execution_count": 11,
   "metadata": {},
   "outputs": [
    {
     "data": {
      "text/plain": [
       "array([[0.8199429, 0.1800571]], dtype=float32)"
      ]
     },
     "execution_count": 11,
     "metadata": {},
     "output_type": "execute_result"
    }
   ],
   "source": [
    "hi = np.load('photo.npy')\n",
    "model.predict(hi)"
   ]
  },
  {
   "cell_type": "code",
   "execution_count": null,
   "metadata": {},
   "outputs": [],
   "source": []
  }
 ],
 "metadata": {
  "kernelspec": {
   "display_name": "Python 3",
   "language": "python",
   "name": "python3"
  },
  "language_info": {
   "codemirror_mode": {
    "name": "ipython",
    "version": 3
   },
   "file_extension": ".py",
   "mimetype": "text/x-python",
   "name": "python",
   "nbconvert_exporter": "python",
   "pygments_lexer": "ipython3",
   "version": "3.7.3"
  }
 },
 "nbformat": 4,
 "nbformat_minor": 2
}
